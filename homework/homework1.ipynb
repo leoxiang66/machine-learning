{
  "nbformat": 4,
  "nbformat_minor": 0,
  "metadata": {
    "colab": {
      "provenance": [],
      "authorship_tag": "ABX9TyMgiih50nqOpnpTUrc6mfsj",
      "include_colab_link": true
    },
    "kernelspec": {
      "name": "python3",
      "display_name": "Python 3"
    },
    "language_info": {
      "name": "python"
    },
    "accelerator": "GPU"
  },
  "cells": [
    {
      "cell_type": "markdown",
      "metadata": {
        "id": "view-in-github",
        "colab_type": "text"
      },
      "source": [
        "<a href=\"https://colab.research.google.com/github/leoxiang66/machine-learning/blob/MLO/homework/homework1.ipynb\" target=\"_parent\"><img src=\"https://colab.research.google.com/assets/colab-badge.svg\" alt=\"Open In Colab\"/></a>"
      ]
    },
    {
      "cell_type": "code",
      "execution_count": 1,
      "metadata": {
        "id": "TWfbRfQLVSoL"
      },
      "outputs": [],
      "source": [
        "import torch\n",
        "import torch\n",
        "from torch.nn.parameter import Parameter\n",
        "from torch.distributions.normal import Normal\n",
        "from torch.distributions.uniform import Uniform"
      ]
    },
    {
      "cell_type": "code",
      "source": [
        "uniform_dist = Uniform(torch.tensor([0.0]), torch.tensor([1.0]))\n",
        "X = uniform_dist.sample(torch.Size([1000]))\n",
        "epsilon = Normal(0,0.25)"
      ],
      "metadata": {
        "id": "aPOajQbUVuUT"
      },
      "execution_count": 2,
      "outputs": []
    },
    {
      "cell_type": "code",
      "source": [
        "epsilon.sample()"
      ],
      "metadata": {
        "colab": {
          "base_uri": "https://localhost:8080/"
        },
        "id": "XuQh71mVW_O6",
        "outputId": "0ca10334-5b49-4dc4-fc37-1ccd2bb25359"
      },
      "execution_count": 3,
      "outputs": [
        {
          "output_type": "execute_result",
          "data": {
            "text/plain": [
              "tensor(0.2925)"
            ]
          },
          "metadata": {},
          "execution_count": 3
        }
      ]
    },
    {
      "cell_type": "code",
      "source": [
        "X.size()"
      ],
      "metadata": {
        "colab": {
          "base_uri": "https://localhost:8080/"
        },
        "id": "n0XNJTL6WTXm",
        "outputId": "f1c3d384-b769-47fc-f38c-716ea51d8a5b"
      },
      "execution_count": 4,
      "outputs": [
        {
          "output_type": "execute_result",
          "data": {
            "text/plain": [
              "torch.Size([1000, 1])"
            ]
          },
          "metadata": {},
          "execution_count": 4
        }
      ]
    },
    {
      "cell_type": "code",
      "source": [
        "X[0]"
      ],
      "metadata": {
        "colab": {
          "base_uri": "https://localhost:8080/"
        },
        "id": "ve_DHTodWd6M",
        "outputId": "63061eb8-7a8c-487c-f7e1-eea41a70dfca"
      },
      "execution_count": 5,
      "outputs": [
        {
          "output_type": "execute_result",
          "data": {
            "text/plain": [
              "tensor([0.7372])"
            ]
          },
          "metadata": {},
          "execution_count": 5
        }
      ]
    },
    {
      "cell_type": "code",
      "source": [
        "Y = torch.tensor([[x+epsilon.sample()] for x in X])\n",
        "Y.size()"
      ],
      "metadata": {
        "colab": {
          "base_uri": "https://localhost:8080/"
        },
        "id": "SKHEJ6HjW0wT",
        "outputId": "4fa194a8-b2ae-4a08-8653-969176769f26"
      },
      "execution_count": 6,
      "outputs": [
        {
          "output_type": "execute_result",
          "data": {
            "text/plain": [
              "torch.Size([1000, 1])"
            ]
          },
          "metadata": {},
          "execution_count": 6
        }
      ]
    },
    {
      "cell_type": "code",
      "source": [
        "Y[0]"
      ],
      "metadata": {
        "colab": {
          "base_uri": "https://localhost:8080/"
        },
        "id": "J-THKDuCXHSA",
        "outputId": "b48cea6b-b4a3-41b0-e65f-29cfda48658a"
      },
      "execution_count": 7,
      "outputs": [
        {
          "output_type": "execute_result",
          "data": {
            "text/plain": [
              "tensor([0.8627])"
            ]
          },
          "metadata": {},
          "execution_count": 7
        }
      ]
    },
    {
      "cell_type": "markdown",
      "source": [
        "# P4.1"
      ],
      "metadata": {
        "id": "i6EonJFVZEiF"
      }
    },
    {
      "cell_type": "code",
      "source": [
        "from matplotlib import pyplot as plt\n",
        "plt.scatter(x=X,y=Y)\n",
        "plt.xlabel('X')\n",
        "plt.ylabel('Y')\n",
        "plt.show()"
      ],
      "metadata": {
        "colab": {
          "base_uri": "https://localhost:8080/",
          "height": 279
        },
        "id": "8BObrxPTX0hY",
        "outputId": "78ba08ee-b83e-48ea-daa0-adf245ca2a1f"
      },
      "execution_count": 8,
      "outputs": [
        {
          "output_type": "display_data",
          "data": {
            "text/plain": [
              "<Figure size 432x288 with 1 Axes>"
            ],
            "image/png": "[encoded data removed]"
          },
          "metadata": {
            "needs_background": "light"
          }
        }
      ]
    },
    {
      "cell_type": "markdown",
      "source": [
        "# P4.2"
      ],
      "metadata": {
        "id": "THT8tSS_ZJhU"
      }
    },
    {
      "cell_type": "markdown",
      "source": [
        "## Training\n",
        "\n",
        "This code section is just for a comparison with the grouth truth LS solution"
      ],
      "metadata": {
        "id": "mNRGg2CmdLVJ"
      }
    },
    {
      "cell_type": "code",
      "source": [
        "import torch\n",
        "class linearRegression(torch.nn.Module):\n",
        "    def __init__(self, inputSize, outputSize):\n",
        "        super(linearRegression, self).__init__()\n",
        "        self.linear = torch.nn.Linear(inputSize, outputSize,bias = False)\n",
        "\n",
        "    def forward(self, x):\n",
        "        out = self.linear(x)\n",
        "        return out"
      ],
      "metadata": {
        "id": "8gsHjrvZZKlP"
      },
      "execution_count": 9,
      "outputs": []
    },
    {
      "cell_type": "code",
      "source": [
        "inputDim = 1        # takes variable 'x' \n",
        "outputDim = 1       # takes variable 'y'\n",
        "learningRate = 0.01\n",
        "epochs = 100\n",
        "\n",
        "lr = linearRegression(inputDim, outputDim)"
      ],
      "metadata": {
        "id": "i3WGf_loaX3r"
      },
      "execution_count": 10,
      "outputs": []
    },
    {
      "cell_type": "code",
      "source": [
        "lr(X[:2])"
      ],
      "metadata": {
        "colab": {
          "base_uri": "https://localhost:8080/"
        },
        "id": "3QpwJfpFa3Oh",
        "outputId": "81ab061a-6647-4a5e-8bf9-ce8990bb6f7c"
      },
      "execution_count": 11,
      "outputs": [
        {
          "output_type": "execute_result",
          "data": {
            "text/plain": [
              "tensor([[-0.1018],\n",
              "        [-0.0435]], grad_fn=<MmBackward0>)"
            ]
          },
          "metadata": {},
          "execution_count": 11
        }
      ]
    },
    {
      "cell_type": "code",
      "source": [
        "loss_fn = torch.nn.MSELoss() \n",
        "optimizer = torch.optim.Adam(lr.parameters(), lr=learningRate)"
      ],
      "metadata": {
        "id": "C3l4NBAba7Ar"
      },
      "execution_count": 12,
      "outputs": []
    },
    {
      "cell_type": "code",
      "source": [
        "for i in range(1,1001):\n",
        "    outputs = lr(X)\n",
        "    optimizer.zero_grad()\n",
        "\n",
        "    loss = loss_fn(outputs,Y)\n",
        "\n",
        "    if i%100 == 0:\n",
        "        print(f'Loss at {i} epoch: {loss.item()}')\n",
        "\n",
        "    loss.backward()\n",
        "    optimizer.step()"
      ],
      "metadata": {
        "colab": {
          "base_uri": "https://localhost:8080/"
        },
        "id": "PRo5DNpJbShs",
        "outputId": "2c8f56c5-85a6-4610-c844-324b15ee68ff"
      },
      "execution_count": 13,
      "outputs": [
        {
          "output_type": "stream",
          "name": "stdout",
          "text": [
            "Loss at 100 epoch: 0.10413633286952972\n",
            "Loss at 200 epoch: 0.06425239145755768\n",
            "Loss at 300 epoch: 0.06344104558229446\n",
            "Loss at 400 epoch: 0.06343845278024673\n",
            "Loss at 500 epoch: 0.06343845278024673\n",
            "Loss at 600 epoch: 0.06343845278024673\n",
            "Loss at 700 epoch: 0.06343845278024673\n",
            "Loss at 800 epoch: 0.06343845278024673\n",
            "Loss at 900 epoch: 0.06343845278024673\n",
            "Loss at 1000 epoch: 0.06343845278024673\n"
          ]
        }
      ]
    },
    {
      "cell_type": "code",
      "source": [
        "Y_hat = lr(X)"
      ],
      "metadata": {
        "id": "Vrg9uYtTdazP"
      },
      "execution_count": 14,
      "outputs": []
    },
    {
      "cell_type": "code",
      "source": [
        "from matplotlib import pyplot as plt\n",
        "plt.scatter(x=X,y=Y, label = 'Raw Data')\n",
        "plt.scatter(x=X,y=Y_hat.detach().numpy(),label = 'Trained Result')\n",
        "plt.xlabel('X')\n",
        "plt.ylabel('Y')\n",
        "plt.legend()\n",
        "plt.show()"
      ],
      "metadata": {
        "colab": {
          "base_uri": "https://localhost:8080/",
          "height": 279
        },
        "id": "89WGlV8-dggY",
        "outputId": "a52a6689-14ae-4cb7-813a-d2d07d7b6be9"
      },
      "execution_count": 15,
      "outputs": [
        {
          "output_type": "display_data",
          "data": {
            "text/plain": [
              "<Figure size 432x288 with 1 Axes>"
            ],
            "image/png": "[encoded data removed]"
          },
          "metadata": {
            "needs_background": "light"
          }
        }
      ]
    },
    {
      "cell_type": "markdown",
      "source": [
        "## LSE solution"
      ],
      "metadata": {
        "id": "xGXCDwhbeVRe"
      }
    },
    {
      "cell_type": "code",
      "source": [
        "lse_lr = linearRegression(1,1)\n"
      ],
      "metadata": {
        "id": "mMwBPzmreXA4"
      },
      "execution_count": 16,
      "outputs": []
    },
    {
      "cell_type": "code",
      "source": [
        "for i in lse_lr.linear.parameters():\n",
        "    print(i)"
      ],
      "metadata": {
        "colab": {
          "base_uri": "https://localhost:8080/"
        },
        "id": "ouuk4qNeeosZ",
        "outputId": "505cb9b5-935d-4705-8c7b-ea07e236fd63"
      },
      "execution_count": 17,
      "outputs": [
        {
          "output_type": "stream",
          "name": "stdout",
          "text": [
            "Parameter containing:\n",
            "tensor([[0.2887]], requires_grad=True)\n"
          ]
        }
      ]
    },
    {
      "cell_type": "code",
      "source": [
        "(X.T).size()"
      ],
      "metadata": {
        "colab": {
          "base_uri": "https://localhost:8080/"
        },
        "id": "8FzEcvnLgIe0",
        "outputId": "2b51e9b6-4eea-4d08-d366-00175ec2aac2"
      },
      "execution_count": 18,
      "outputs": [
        {
          "output_type": "execute_result",
          "data": {
            "text/plain": [
              "torch.Size([1, 1000])"
            ]
          },
          "metadata": {},
          "execution_count": 18
        }
      ]
    },
    {
      "cell_type": "code",
      "source": [
        "def compute_lse(X,y):\n",
        "    tmp = torch.matmul(X.T, X)\n",
        "    tmp = torch.inverse(tmp)\n",
        "    tmp = torch.matmul(tmp,X.T)\n",
        "    tmp = torch.matmul(tmp,y)\n",
        "\n",
        "    return tmp"
      ],
      "metadata": {
        "id": "JZSc30UhgeKT"
      },
      "execution_count": 19,
      "outputs": []
    },
    {
      "cell_type": "code",
      "source": [
        "lse = compute_lse(X,Y)\n",
        "lse"
      ],
      "metadata": {
        "colab": {
          "base_uri": "https://localhost:8080/"
        },
        "id": "vSmD7kqhg7e8",
        "outputId": "f6ed5206-414f-4201-ab82-09056454a27e"
      },
      "execution_count": 20,
      "outputs": [
        {
          "output_type": "execute_result",
          "data": {
            "text/plain": [
              "tensor([[1.0232]])"
            ]
          },
          "metadata": {},
          "execution_count": 20
        }
      ]
    },
    {
      "cell_type": "code",
      "source": [
        "lse_lr.linear.weight = torch.nn.Parameter(lse) "
      ],
      "metadata": {
        "id": "Oq6c4hChhBZS"
      },
      "execution_count": 21,
      "outputs": []
    },
    {
      "cell_type": "code",
      "source": [
        "Y_lse = lse_lr(X)"
      ],
      "metadata": {
        "id": "-khubRyUhJyh"
      },
      "execution_count": 22,
      "outputs": []
    },
    {
      "cell_type": "code",
      "source": [
        "from matplotlib import pyplot as plt\n",
        "plt.scatter(x=X,y=Y, label = 'Raw Data')\n",
        "plt.scatter(x=X,y=Y_lse.detach().numpy(),label = 'LSE Result')\n",
        "plt.xlabel('X')\n",
        "plt.ylabel('Y')\n",
        "plt.legend()\n",
        "plt.show()"
      ],
      "metadata": {
        "colab": {
          "base_uri": "https://localhost:8080/",
          "height": 279
        },
        "id": "zQjbMrv_hOlG",
        "outputId": "dcffe5c4-39be-4fdb-c348-f7bb3500f7d0"
      },
      "execution_count": 23,
      "outputs": [
        {
          "output_type": "display_data",
          "data": {
            "text/plain": [
              "<Figure size 432x288 with 1 Axes>"
            ],
            "image/png": "[encoded data removed]"
          },
          "metadata": {
            "needs_background": "light"
          }
        }
      ]
    },
    {
      "cell_type": "markdown",
      "source": [
        "## Training Error"
      ],
      "metadata": {
        "id": "FFW_U1YUhvke"
      }
    },
    {
      "cell_type": "code",
      "source": [
        "loss_fn(Y_hat, Y_lse).item()"
      ],
      "metadata": {
        "colab": {
          "base_uri": "https://localhost:8080/"
        },
        "id": "VWbILR_QhtzL",
        "outputId": "d598c6f5-5026-4078-f52a-eefc5496f035"
      },
      "execution_count": 24,
      "outputs": [
        {
          "output_type": "execute_result",
          "data": {
            "text/plain": [
              "1.8912839637496084e-14"
            ]
          },
          "metadata": {},
          "execution_count": 24
        }
      ]
    },
    {
      "cell_type": "markdown",
      "source": [
        "# P 4.4"
      ],
      "metadata": {
        "id": "hohA7M1_kbCk"
      }
    },
    {
      "cell_type": "code",
      "source": [
        "xi = Normal(0,0.01)"
      ],
      "metadata": {
        "id": "ANBGZCn5kaWc"
      },
      "execution_count": 25,
      "outputs": []
    },
    {
      "cell_type": "code",
      "source": [
        "Y = torch.tensor([[30*torch.square(x-0.25)*torch.square(x-0.75) + xi.sample()] for x in X])\n",
        "Y.size()"
      ],
      "metadata": {
        "colab": {
          "base_uri": "https://localhost:8080/"
        },
        "id": "ItA2tsJ0k0mI",
        "outputId": "bf2d1f58-1161-4b07-c0cf-3a14db6a712e"
      },
      "execution_count": 26,
      "outputs": [
        {
          "output_type": "execute_result",
          "data": {
            "text/plain": [
              "torch.Size([1000, 1])"
            ]
          },
          "metadata": {},
          "execution_count": 26
        }
      ]
    },
    {
      "cell_type": "code",
      "source": [
        "from matplotlib import pyplot as plt\n",
        "plt.scatter(x=X,y=Y)\n",
        "plt.xlabel('X')\n",
        "plt.ylabel('Y')\n",
        "plt.show()"
      ],
      "metadata": {
        "colab": {
          "base_uri": "https://localhost:8080/",
          "height": 279
        },
        "id": "FHr9Y8sOlP_G",
        "outputId": "04113763-e0f2-46f1-b99a-1a7baba595a5"
      },
      "execution_count": 27,
      "outputs": [
        {
          "output_type": "display_data",
          "data": {
            "text/plain": [
              "<Figure size 432x288 with 1 Axes>"
            ],
            "image/png": "[encoded data removed]"
          },
          "metadata": {
            "needs_background": "light"
          }
        }
      ]
    },
    {
      "cell_type": "markdown",
      "source": [
        "**First we build the new $X$ matrix which is the polynomial form of $X$**"
      ],
      "metadata": {
        "id": "EusKYE04orFo"
      }
    },
    {
      "cell_type": "code",
      "source": [
        "def pd(x, dim: int):\n",
        "    result = [1]\n",
        "    for i in range(dim):\n",
        "        result.append(torch.pow(x,(i+1)))\n",
        "    return torch.Tensor(result)\n"
      ],
      "metadata": {
        "id": "ht8lLcwKmSdX"
      },
      "execution_count": 28,
      "outputs": []
    },
    {
      "cell_type": "code",
      "source": [
        "pd(X[0][0],4)"
      ],
      "metadata": {
        "colab": {
          "base_uri": "https://localhost:8080/"
        },
        "id": "FpFdpfQJnI6J",
        "outputId": "da280364-8d59-4b5c-eb59-cd7bc4212ab7"
      },
      "execution_count": 29,
      "outputs": [
        {
          "output_type": "execute_result",
          "data": {
            "text/plain": [
              "tensor([1.0000, 0.7372, 0.5434, 0.4006, 0.2953])"
            ]
          },
          "metadata": {},
          "execution_count": 29
        }
      ]
    },
    {
      "cell_type": "code",
      "source": [
        "tmp = [pd(x[0],4) for x in X]"
      ],
      "metadata": {
        "id": "hhcfmdUvnUyq"
      },
      "execution_count": 30,
      "outputs": []
    },
    {
      "cell_type": "code",
      "source": [
        "X_new = torch.stack(tmp, dim = 0)\n",
        "X_new.size()"
      ],
      "metadata": {
        "colab": {
          "base_uri": "https://localhost:8080/"
        },
        "id": "7ro8DaG0lUQv",
        "outputId": "20ca7d07-f31b-42bc-cc33-6f926f90529d"
      },
      "execution_count": 31,
      "outputs": [
        {
          "output_type": "execute_result",
          "data": {
            "text/plain": [
              "torch.Size([1000, 5])"
            ]
          },
          "metadata": {},
          "execution_count": 31
        }
      ]
    },
    {
      "cell_type": "markdown",
      "source": [
        "**After we have the new $X$, we can compute the LSE solution.**"
      ],
      "metadata": {
        "id": "C6h4ZDkYo1IU"
      }
    },
    {
      "cell_type": "code",
      "source": [
        "lse = compute_lse(X_new,Y)\n",
        "lse"
      ],
      "metadata": {
        "colab": {
          "base_uri": "https://localhost:8080/"
        },
        "id": "IDHRacRHnhm9",
        "outputId": "c4def41e-f60e-407e-f075-0a7694f0aef5"
      },
      "execution_count": 32,
      "outputs": [
        {
          "output_type": "execute_result",
          "data": {
            "text/plain": [
              "tensor([[  1.0537],\n",
              "        [-11.2307],\n",
              "        [ 41.1478],\n",
              "        [-59.8330],\n",
              "        [ 29.9161]])"
            ]
          },
          "metadata": {},
          "execution_count": 32
        }
      ]
    },
    {
      "cell_type": "markdown",
      "source": [
        "**To plot the LSE result, we generate $Y$ using the LSE solution**"
      ],
      "metadata": {
        "id": "nfbGNHRRo-XG"
      }
    },
    {
      "cell_type": "code",
      "source": [
        "def forward(X, param):\n",
        "    tmp = [pd(x[0],4) for x in X]\n",
        "    X_new = torch.stack(tmp, dim = 0)\n",
        "    return torch.matmul(X_new,param)"
      ],
      "metadata": {
        "id": "C_OljH7Tn3tn"
      },
      "execution_count": 33,
      "outputs": []
    },
    {
      "cell_type": "code",
      "source": [
        "Y_lse = forward(X,lse)\n",
        "Y_lse.size()"
      ],
      "metadata": {
        "colab": {
          "base_uri": "https://localhost:8080/"
        },
        "id": "6nlEtClUoO_7",
        "outputId": "2a34a995-0255-48a5-830b-466ecbe8a281"
      },
      "execution_count": 34,
      "outputs": [
        {
          "output_type": "execute_result",
          "data": {
            "text/plain": [
              "torch.Size([1000, 1])"
            ]
          },
          "metadata": {},
          "execution_count": 34
        }
      ]
    },
    {
      "cell_type": "code",
      "source": [
        "from matplotlib import pyplot as plt\n",
        "plt.scatter(x=X,y=Y, label = 'Raw Data')\n",
        "plt.scatter(x=X,y=Y_lse.detach().numpy(),label = 'LSE Result')\n",
        "plt.xlabel('X')\n",
        "plt.ylabel('Y')\n",
        "plt.legend()\n",
        "plt.show()"
      ],
      "metadata": {
        "colab": {
          "base_uri": "https://localhost:8080/",
          "height": 279
        },
        "id": "mG7UASuxoYpR",
        "outputId": "3e87081d-a92f-4fd2-f3f2-82af3ddc96e6"
      },
      "execution_count": 35,
      "outputs": [
        {
          "output_type": "display_data",
          "data": {
            "text/plain": [
              "<Figure size 432x288 with 1 Axes>"
            ],
            "image/png": "[encoded data removed]"
          },
          "metadata": {
            "needs_background": "light"
          }
        }
      ]
    }
  ]
}