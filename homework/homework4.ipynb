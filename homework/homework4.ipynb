{
  "nbformat": 4,
  "nbformat_minor": 0,
  "metadata": {
    "colab": {
      "provenance": [],
      "collapsed_sections": [],
      "toc_visible": true,
      "authorship_tag": "ABX9TyPobu1skoqWGXQsbiN3DevB",
      "include_colab_link": true
    },
    "kernelspec": {
      "name": "python3",
      "display_name": "Python 3"
    },
    "language_info": {
      "name": "python"
    }
  },
  "cells": [
    {
      "cell_type": "markdown",
      "metadata": {
        "id": "view-in-github",
        "colab_type": "text"
      },
      "source": [
        "<a href=\"https://colab.research.google.com/github/leoxiang66/machine-learning/blob/MLO/homework/homework4.ipynb\" target=\"_parent\"><img src=\"https://colab.research.google.com/assets/colab-badge.svg\" alt=\"Open In Colab\"/></a>"
      ]
    },
    {
      "cell_type": "code",
      "execution_count": 1,
      "metadata": {
        "id": "NcZNhWCcKgjH"
      },
      "outputs": [],
      "source": [
        "import torch\n",
        "import matplotlib.pyplot as plt\n",
        "from matplotlib.pyplot import MultipleLocator\n",
        "import numpy as np"
      ]
    },
    {
      "cell_type": "markdown",
      "source": [
        "# p2.2\n",
        "$$\n",
        "f(\\mathbf{x})=\\|\\mathbf{x}-\\mathbf{b}\\|_2\n",
        "$$"
      ],
      "metadata": {
        "id": "Znw7JFGeNvcb"
      }
    },
    {
      "cell_type": "code",
      "source": [
        "from typing import Union\n",
        "def gradient_descent(learning_rate: Union[float, callable,int], x: torch.Tensor, gradient_func: callable,iteration: int = 1):\n",
        "    tmp = x\n",
        "    if isinstance(learning_rate, (float,int)):\n",
        "        for k in range(iteration):\n",
        "            grad = gradient_func(tmp)\n",
        "            tmp = tmp - learning_rate * grad\n",
        "    else:\n",
        "        pass\n",
        "    return tmp"
      ],
      "metadata": {
        "id": "so21KiGbKxsA"
      },
      "execution_count": 2,
      "outputs": []
    },
    {
      "cell_type": "code",
      "source": [
        "b = torch.Tensor([4.5,6])\n",
        "b"
      ],
      "metadata": {
        "colab": {
          "base_uri": "https://localhost:8080/"
        },
        "id": "Ptw_D9weMVWT",
        "outputId": "6177f83a-d921-4a4b-f1f0-69be3818f46f"
      },
      "execution_count": 3,
      "outputs": [
        {
          "output_type": "execute_result",
          "data": {
            "text/plain": [
              "tensor([4.5000, 6.0000])"
            ]
          },
          "metadata": {},
          "execution_count": 3
        }
      ]
    },
    {
      "cell_type": "code",
      "source": [
        "def gradient_function(x: torch.Tensor):\n",
        "    b = torch.Tensor([4.5,6])\n",
        "    return (x-b)/torch.linalg.norm(x-b)"
      ],
      "metadata": {
        "id": "lHJ5CQJsMCRH"
      },
      "execution_count": 4,
      "outputs": []
    },
    {
      "cell_type": "code",
      "source": [
        "x0 = torch.zeros(1,2)\n",
        "x0"
      ],
      "metadata": {
        "colab": {
          "base_uri": "https://localhost:8080/"
        },
        "id": "twEOKgUnLwi_",
        "outputId": "24cdebbe-ce93-4c29-b819-d8d7de7caf1b"
      },
      "execution_count": 5,
      "outputs": [
        {
          "output_type": "execute_result",
          "data": {
            "text/plain": [
              "tensor([[0., 0.]])"
            ]
          },
          "metadata": {},
          "execution_count": 5
        }
      ]
    },
    {
      "cell_type": "code",
      "source": [
        "xk = x0\n",
        "lr = 1\n",
        "epoch = 20\n",
        "\n",
        "\n",
        "dist = []\n",
        "\n",
        "for i in range(epoch):\n",
        "    dist.append(torch.linalg.norm(b-xk)/torch.linalg.norm(b))\n",
        "    xk = gradient_descent(lr,xk,gradient_function)\n",
        "\n",
        "\n",
        "\n",
        "\n",
        "xpoints = range(epoch)\n",
        "ypoints = dist\n",
        "\n",
        "x_major_locator=MultipleLocator(1) \n",
        "y_major_locator=MultipleLocator(0.05) \n",
        "\n",
        "plt.figure(figsize=(10,12),dpi=90)\n",
        "ax=plt.gca() \n",
        "ax.xaxis.set_major_locator(x_major_locator) \n",
        "ax.yaxis.set_major_locator(y_major_locator) \n",
        "\n",
        "\n",
        "\n",
        "plt.scatter(x=xpoints,y=dist)\n",
        "plt.show()"
      ],
      "metadata": {
        "colab": {
          "base_uri": "https://localhost:8080/",
          "height": 872
        },
        "id": "lkL4ubnxNEmF",
        "outputId": "84a7916e-81ae-4a0b-ea1f-25acb239774d"
      },
      "execution_count": 6,
      "outputs": [
        {
          "output_type": "display_data",
          "data": {
            "text/plain": [
              "<Figure size 900x1080 with 1 Axes>"
            ],
            "image/png": "[encoded data removed]"
          },
          "metadata": {
            "needs_background": "light"
          }
        }
      ]
    },
    {
      "cell_type": "code",
      "source": [
        "print(dist[3:6])"
      ],
      "metadata": {
        "colab": {
          "base_uri": "https://localhost:8080/"
        },
        "id": "4q8BWE6kPXJA",
        "outputId": "14f920e0-0a6c-4719-9d1f-5e85ce7e0418"
      },
      "execution_count": 7,
      "outputs": [
        {
          "output_type": "stream",
          "name": "stdout",
          "text": [
            "[tensor(0.6000), tensor(0.4667), tensor(0.3333)]\n"
          ]
        }
      ]
    },
    {
      "cell_type": "code",
      "source": [
        "np.argmin(dist), np.min(dist)"
      ],
      "metadata": {
        "colab": {
          "base_uri": "https://localhost:8080/"
        },
        "id": "YYSvRCy3TI0S",
        "outputId": "799b91d9-7100-4627-c273-00090549a8c1"
      },
      "execution_count": 8,
      "outputs": [
        {
          "output_type": "execute_result",
          "data": {
            "text/plain": [
              "(7, 0.06666664)"
            ]
          },
          "metadata": {},
          "execution_count": 8
        }
      ]
    },
    {
      "cell_type": "markdown",
      "source": [
        "As we can see, for stepsize = 1, the distance between $x^{k}$ and $x^*$ does not converge to optimal solution. "
      ],
      "metadata": {
        "id": "WJzPYYXBPOMk"
      }
    },
    {
      "cell_type": "markdown",
      "source": [
        "# p2.3"
      ],
      "metadata": {
        "id": "LKVPwwbrPxnn"
      }
    },
    {
      "cell_type": "code",
      "source": [
        "xk = x0\n",
        "lr = lambda k: (5/6)**k\n",
        "epoch = 100\n",
        "\n",
        "\n",
        "dist = []\n",
        "\n",
        "for i in range(epoch):\n",
        "    dist.append(torch.linalg.norm(b-xk)/torch.linalg.norm(b))\n",
        "    xk = gradient_descent(lr(i),xk,gradient_function)\n",
        "\n",
        "\n",
        "\n",
        "xpoints = range(epoch)\n",
        "ypoints = dist\n",
        "\n",
        "x_major_locator=MultipleLocator(1) \n",
        "y_major_locator=MultipleLocator(0.05) \n",
        "\n",
        "plt.figure(figsize=(10,12),dpi=90)\n",
        "ax=plt.gca() \n",
        "ax.xaxis.set_major_locator(x_major_locator) \n",
        "ax.yaxis.set_major_locator(y_major_locator) \n",
        "\n",
        "\n",
        "\n",
        "plt.scatter(x=xpoints,y=dist)\n",
        "plt.show()"
      ],
      "metadata": {
        "colab": {
          "base_uri": "https://localhost:8080/",
          "height": 872
        },
        "id": "GYFVkhWRQAGQ",
        "outputId": "187fdf70-96f0-40e5-df9d-ccc3221568c7"
      },
      "execution_count": 9,
      "outputs": [
        {
          "output_type": "display_data",
          "data": {
            "text/plain": [
              "<Figure size 900x1080 with 1 Axes>"
            ],
            "image/png": "[encoded data removed]"
          },
          "metadata": {
            "needs_background": "light"
          }
        }
      ]
    },
    {
      "cell_type": "code",
      "source": [
        "dist[6:]"
      ],
      "metadata": {
        "colab": {
          "base_uri": "https://localhost:8080/"
        },
        "id": "dHp-2kGYTvNn",
        "outputId": "65f684d8-cb2e-4cbf-ad1d-dde40022a295"
      },
      "execution_count": 10,
      "outputs": [
        {
          "output_type": "execute_result",
          "data": {
            "text/plain": [
              "[tensor(0.4679),\n",
              " tensor(0.4233),\n",
              " tensor(0.3861),\n",
              " tensor(0.3550),\n",
              " tensor(0.3292),\n",
              " tensor(0.3077),\n",
              " tensor(0.2897),\n",
              " tensor(0.2748),\n",
              " tensor(0.2623),\n",
              " tensor(0.2519),\n",
              " tensor(0.2433),\n",
              " tensor(0.2361),\n",
              " tensor(0.2300),\n",
              " tensor(0.2250),\n",
              " tensor(0.2209),\n",
              " tensor(0.2174),\n",
              " tensor(0.2145),\n",
              " tensor(0.2121),\n",
              " tensor(0.2101),\n",
              " tensor(0.2084),\n",
              " tensor(0.2070),\n",
              " tensor(0.2058),\n",
              " tensor(0.2049),\n",
              " tensor(0.2040),\n",
              " tensor(0.2034),\n",
              " tensor(0.2028),\n",
              " tensor(0.2023),\n",
              " tensor(0.2020),\n",
              " tensor(0.2016),\n",
              " tensor(0.2014),\n",
              " tensor(0.2011),\n",
              " tensor(0.2009),\n",
              " tensor(0.2008),\n",
              " tensor(0.2007),\n",
              " tensor(0.2005),\n",
              " tensor(0.2005),\n",
              " tensor(0.2004),\n",
              " tensor(0.2003),\n",
              " tensor(0.2003),\n",
              " tensor(0.2002),\n",
              " tensor(0.2002),\n",
              " tensor(0.2002),\n",
              " tensor(0.2001),\n",
              " tensor(0.2001),\n",
              " tensor(0.2001),\n",
              " tensor(0.2001),\n",
              " tensor(0.2001),\n",
              " tensor(0.2001),\n",
              " tensor(0.2000),\n",
              " tensor(0.2000),\n",
              " tensor(0.2000),\n",
              " tensor(0.2000),\n",
              " tensor(0.2000),\n",
              " tensor(0.2000),\n",
              " tensor(0.2000),\n",
              " tensor(0.2000),\n",
              " tensor(0.2000),\n",
              " tensor(0.2000),\n",
              " tensor(0.2000),\n",
              " tensor(0.2000),\n",
              " tensor(0.2000),\n",
              " tensor(0.2000),\n",
              " tensor(0.2000),\n",
              " tensor(0.2000),\n",
              " tensor(0.2000),\n",
              " tensor(0.2000),\n",
              " tensor(0.2000),\n",
              " tensor(0.2000),\n",
              " tensor(0.2000),\n",
              " tensor(0.2000),\n",
              " tensor(0.2000),\n",
              " tensor(0.2000),\n",
              " tensor(0.2000),\n",
              " tensor(0.2000),\n",
              " tensor(0.2000),\n",
              " tensor(0.2000),\n",
              " tensor(0.2000),\n",
              " tensor(0.2000),\n",
              " tensor(0.2000),\n",
              " tensor(0.2000),\n",
              " tensor(0.2000),\n",
              " tensor(0.2000),\n",
              " tensor(0.2000),\n",
              " tensor(0.2000),\n",
              " tensor(0.2000),\n",
              " tensor(0.2000),\n",
              " tensor(0.2000),\n",
              " tensor(0.2000),\n",
              " tensor(0.2000),\n",
              " tensor(0.2000),\n",
              " tensor(0.2000),\n",
              " tensor(0.2000),\n",
              " tensor(0.2000),\n",
              " tensor(0.2000)]"
            ]
          },
          "metadata": {},
          "execution_count": 10
        }
      ]
    },
    {
      "cell_type": "code",
      "source": [
        "np.argmin(dist), np.min(dist)"
      ],
      "metadata": {
        "colab": {
          "base_uri": "https://localhost:8080/"
        },
        "id": "Qzabg31nUKpI",
        "outputId": "4df059c5-6cb4-4c4c-d839-c33dd8e1a144"
      },
      "execution_count": 11,
      "outputs": [
        {
          "output_type": "execute_result",
          "data": {
            "text/plain": [
              "(85, 0.20000027)"
            ]
          },
          "metadata": {},
          "execution_count": 11
        }
      ]
    },
    {
      "cell_type": "markdown",
      "source": [
        "As we can see, for stepsize = $(5/6)^k$ the distance does not converge to the optimal solution."
      ],
      "metadata": {
        "id": "PXL8IQyTT2-I"
      }
    },
    {
      "cell_type": "markdown",
      "source": [
        "# p2.4"
      ],
      "metadata": {
        "id": "gKdoq6cwUQ61"
      }
    },
    {
      "cell_type": "code",
      "source": [
        "xk = x0\n",
        "lr = lambda k: 1/(k+1)\n",
        "epoch = 2000\n",
        "found = False\n",
        "\n",
        "dist = []\n",
        "\n",
        "for i in range(epoch):\n",
        "    tmp = torch.linalg.norm(b-xk)/torch.linalg.norm(b)\n",
        "    dist.append(tmp)\n",
        "    xk = gradient_descent(lr(i),xk,gradient_function)\n",
        "    if not found and tmp <= 0.01:\n",
        "        print(f'the distance is firstly smaller than 0.01 at k = {i}')\n",
        "        found = True\n",
        "\n",
        "\n",
        "\n",
        "xpoints = range(len(dist))\n",
        "ypoints = dist\n",
        "\n",
        "x_major_locator=MultipleLocator(100) \n",
        "y_major_locator=MultipleLocator(0.05) \n",
        "\n",
        "plt.figure(figsize=(20,12),dpi=90)\n",
        "ax=plt.gca() \n",
        "ax.xaxis.set_major_locator(x_major_locator) \n",
        "ax.yaxis.set_major_locator(y_major_locator) \n",
        "\n",
        "\n",
        "\n",
        "plt.scatter(x=xpoints,y=dist)\n",
        "plt.show()"
      ],
      "metadata": {
        "colab": {
          "base_uri": "https://localhost:8080/",
          "height": 890
        },
        "id": "Cfx2eZJBUQC6",
        "outputId": "8105a4f9-4af8-488a-ce8e-52164203ffe7"
      },
      "execution_count": 12,
      "outputs": [
        {
          "output_type": "stream",
          "name": "stdout",
          "text": [
            "the distance is firstly smaller than 0.01 at k = 942\n"
          ]
        },
        {
          "output_type": "display_data",
          "data": {
            "text/plain": [
              "<Figure size 1800x1080 with 1 Axes>"
            ],
            "image/png": "[encoded data removed]"
          },
          "metadata": {
            "needs_background": "light"
          }
        }
      ]
    },
    {
      "cell_type": "code",
      "source": [
        "dist[-1]"
      ],
      "metadata": {
        "colab": {
          "base_uri": "https://localhost:8080/"
        },
        "id": "sU_r5_wzk1Oz",
        "outputId": "46c2b5c3-c44b-48a2-f29b-4ced5196dc68"
      },
      "execution_count": 13,
      "outputs": [
        {
          "output_type": "execute_result",
          "data": {
            "text/plain": [
              "tensor(1.4755e-05)"
            ]
          },
          "metadata": {},
          "execution_count": 13
        }
      ]
    },
    {
      "cell_type": "markdown",
      "source": [
        "As we can see, for learning rate = $1 /(k+1)$, the distance is firstly smaller than 0.01 at $k = 942$. And it also converges to the optimal solution."
      ],
      "metadata": {
        "id": "FJLlyis2Ve2F"
      }
    },
    {
      "cell_type": "markdown",
      "source": [
        "# p2.5\n",
        "\n",
        "$$\n",
        "g(\\mathbf{x})=\\|\\mathbf{x}-\\mathbf{b}\\|_2^2\n",
        "$$"
      ],
      "metadata": {
        "id": "gdgUjarfVsTS"
      }
    },
    {
      "cell_type": "code",
      "source": [
        "def gradient_function(x: torch.Tensor):\n",
        "    b = torch.Tensor([4.5,6])\n",
        "    return 2*(x-b)"
      ],
      "metadata": {
        "id": "LNJysZvQWXvd"
      },
      "execution_count": 14,
      "outputs": []
    },
    {
      "cell_type": "code",
      "source": [
        "xk = x0\n",
        "lr = 0.1\n",
        "epoch = 100\n",
        "found = False\n",
        "\n",
        "dist = []\n",
        "\n",
        "for i in range(epoch):\n",
        "    tmp = torch.linalg.norm(b-xk)/torch.linalg.norm(b)\n",
        "    dist.append(tmp)\n",
        "    xk = gradient_descent(lr,xk,gradient_function)\n",
        "    if not found and tmp <= 0.01:\n",
        "        print(f'the distance is firstly smaller than 0.01 at k = {i}')\n",
        "        found = True\n",
        "\n",
        "\n",
        "\n",
        "xpoints = range(len(dist))\n",
        "ypoints = dist\n",
        "\n",
        "x_major_locator=MultipleLocator(10) \n",
        "y_major_locator=MultipleLocator(0.05) \n",
        "\n",
        "plt.figure(figsize=(10,12),dpi=90)\n",
        "ax=plt.gca() \n",
        "ax.xaxis.set_major_locator(x_major_locator) \n",
        "ax.yaxis.set_major_locator(y_major_locator) \n",
        "\n",
        "\n",
        "\n",
        "plt.scatter(x=xpoints,y=dist)\n",
        "plt.show()"
      ],
      "metadata": {
        "colab": {
          "base_uri": "https://localhost:8080/",
          "height": 890
        },
        "id": "YTBj6mn1cTdx",
        "outputId": "18d9ab52-51df-4891-bb8a-805c580558e5"
      },
      "execution_count": 15,
      "outputs": [
        {
          "output_type": "stream",
          "name": "stdout",
          "text": [
            "the distance is firstly smaller than 0.01 at k = 21\n"
          ]
        },
        {
          "output_type": "display_data",
          "data": {
            "text/plain": [
              "<Figure size 900x1080 with 1 Axes>"
            ],
            "image/png": "[encoded data removed]"
          },
          "metadata": {
            "needs_background": "light"
          }
        }
      ]
    },
    {
      "cell_type": "code",
      "source": [
        "dist[-1]"
      ],
      "metadata": {
        "colab": {
          "base_uri": "https://localhost:8080/"
        },
        "id": "PP7TQaX-lNKT",
        "outputId": "84a9477a-9e48-4ae6-862c-9adf2ab5397f"
      },
      "execution_count": 16,
      "outputs": [
        {
          "output_type": "execute_result",
          "data": {
            "text/plain": [
              "tensor(1.7983e-07)"
            ]
          },
          "metadata": {},
          "execution_count": 16
        }
      ]
    },
    {
      "cell_type": "markdown",
      "source": [
        "As we can see, for learning rate = 0.1, the distance is firstly smaller than 0.01 at $k = 21$. And it also converges to the optimal solution."
      ],
      "metadata": {
        "id": "7eANhQrrcljs"
      }
    },
    {
      "cell_type": "markdown",
      "source": [
        "# p2.6"
      ],
      "metadata": {
        "id": "M9mKPiUacpGa"
      }
    },
    {
      "cell_type": "code",
      "source": [
        "xk = x0\n",
        "lr = lambda k: (1/6)**k\n",
        "epoch = 100\n",
        "found = False\n",
        "\n",
        "dist = []\n",
        "\n",
        "for i in range(epoch):\n",
        "    tmp = torch.linalg.norm(b-xk)/torch.linalg.norm(b)\n",
        "    dist.append(tmp)\n",
        "    xk = gradient_descent(lr(i),xk,gradient_function)\n",
        "    if not found and tmp <= 0.01:\n",
        "        print(f'the distance is firstly smaller than 0.01 at k = {i}')\n",
        "        found = True\n",
        "\n",
        "\n",
        "\n",
        "xpoints = range(len(dist))\n",
        "ypoints = dist\n",
        "\n",
        "x_major_locator=MultipleLocator(20) \n",
        "y_major_locator=MultipleLocator(0.1) \n",
        "\n",
        "plt.figure(figsize=(10,5),dpi=90)\n",
        "ax=plt.gca() \n",
        "ax.xaxis.set_major_locator(x_major_locator) \n",
        "ax.yaxis.set_major_locator(y_major_locator) \n",
        "\n",
        "\n",
        "\n",
        "plt.plot(xpoints,dist)\n",
        "plt.show()"
      ],
      "metadata": {
        "colab": {
          "base_uri": "https://localhost:8080/",
          "height": 396
        },
        "id": "ZX-FThQYcrpa",
        "outputId": "652da5b0-f10b-4578-a3be-10db9a75a7f7"
      },
      "execution_count": 17,
      "outputs": [
        {
          "output_type": "display_data",
          "data": {
            "text/plain": [
              "<Figure size 900x450 with 1 Axes>"
            ],
            "image/png": "[encoded data removed]"
          },
          "metadata": {
            "needs_background": "light"
          }
        }
      ]
    },
    {
      "cell_type": "code",
      "source": [
        "np.argmin(dist), np.min(dist)"
      ],
      "metadata": {
        "colab": {
          "base_uri": "https://localhost:8080/"
        },
        "id": "PrazctxHc89J",
        "outputId": "88d205e5-116f-4859-afde-df2f420a2187"
      },
      "execution_count": 18,
      "outputs": [
        {
          "output_type": "execute_result",
          "data": {
            "text/plain": [
              "(10, 0.6226448)"
            ]
          },
          "metadata": {},
          "execution_count": 18
        }
      ]
    },
    {
      "cell_type": "code",
      "source": [
        "dist[-1]"
      ],
      "metadata": {
        "colab": {
          "base_uri": "https://localhost:8080/"
        },
        "id": "wJ-KyctqlTZR",
        "outputId": "069c2236-9044-4b61-a604-6de9d2220dfe"
      },
      "execution_count": 19,
      "outputs": [
        {
          "output_type": "execute_result",
          "data": {
            "text/plain": [
              "tensor(0.6226)"
            ]
          },
          "metadata": {},
          "execution_count": 19
        }
      ]
    },
    {
      "cell_type": "markdown",
      "source": [
        "As we can see, for learning rate = $(1/6)^k$, the distance is never smaller than 0.01 for 100 steps. And it also does not converge to the optimal solution."
      ],
      "metadata": {
        "id": "yEs5_pR_dDAU"
      }
    },
    {
      "cell_type": "markdown",
      "source": [
        "# p2.7"
      ],
      "metadata": {
        "id": "fw6oOnFTdRdJ"
      }
    },
    {
      "cell_type": "code",
      "source": [
        "xk = x0\n",
        "lr = lambda k: 1/(4*(k+1))\n",
        "epoch = 5000\n",
        "found = False\n",
        "\n",
        "dist = []\n",
        "\n",
        "for i in range(epoch):\n",
        "    tmp = torch.linalg.norm(b-xk)/torch.linalg.norm(b)\n",
        "    dist.append(tmp)\n",
        "    xk = gradient_descent(lr(i),xk,gradient_function)\n",
        "    if not found and tmp <= 0.01:\n",
        "        print(f'the distance is firstly smaller than 0.01 at k = {i}')\n",
        "        found = True\n",
        "\n",
        "\n",
        "\n",
        "xpoints = range(len(dist))\n",
        "ypoints = dist\n",
        "\n",
        "x_major_locator=MultipleLocator(1000) \n",
        "y_major_locator=MultipleLocator(0.1) \n",
        "\n",
        "plt.figure(figsize=(10,5),dpi=90)\n",
        "ax=plt.gca() \n",
        "ax.xaxis.set_major_locator(x_major_locator) \n",
        "ax.yaxis.set_major_locator(y_major_locator) \n",
        "\n",
        "\n",
        "\n",
        "plt.plot(xpoints,dist)\n",
        "plt.show()"
      ],
      "metadata": {
        "colab": {
          "base_uri": "https://localhost:8080/",
          "height": 414
        },
        "id": "NVFRk7-ydUE6",
        "outputId": "e071266b-4083-4ce0-a744-a6bbccd3d73e"
      },
      "execution_count": 20,
      "outputs": [
        {
          "output_type": "stream",
          "name": "stdout",
          "text": [
            "the distance is firstly smaller than 0.01 at k = 3183\n"
          ]
        },
        {
          "output_type": "display_data",
          "data": {
            "text/plain": [
              "<Figure size 900x450 with 1 Axes>"
            ],
            "image/png": "[encoded data removed]"
          },
          "metadata": {
            "needs_background": "light"
          }
        }
      ]
    },
    {
      "cell_type": "code",
      "source": [
        "np.argmin(dist), np.min(dist)"
      ],
      "metadata": {
        "colab": {
          "base_uri": "https://localhost:8080/"
        },
        "id": "FaJr4mBIdz3i",
        "outputId": "22e0b650-08f1-482f-d371-16e9b6dfc039"
      },
      "execution_count": 21,
      "outputs": [
        {
          "output_type": "execute_result",
          "data": {
            "text/plain": [
              "(4999, 0.007979202)"
            ]
          },
          "metadata": {},
          "execution_count": 21
        }
      ]
    },
    {
      "cell_type": "markdown",
      "source": [
        "As we can see, for stepsize = $1 /(4(k+1))$, the distance between $x^{k}$ and $x^*$ is firstly smaller than 0.01 for $k = 3183$. And it also converges to the optimal solution."
      ],
      "metadata": {
        "id": "5ZeYU60md7s6"
      }
    }
  ]
}