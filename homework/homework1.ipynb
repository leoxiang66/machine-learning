{
  "nbformat": 4,
  "nbformat_minor": 0,
  "metadata": {
    "colab": {
      "provenance": [],
      "authorship_tag": "ABX9TyP7yoX4ZwxmZz5EvA9nn3uc",
      "include_colab_link": true
    },
    "kernelspec": {
      "name": "python3",
      "display_name": "Python 3"
    },
    "language_info": {
      "name": "python"
    },
    "accelerator": "GPU"
  },
  "cells": [
    {
      "cell_type": "markdown",
      "metadata": {
        "id": "view-in-github",
        "colab_type": "text"
      },
      "source": [
        "<a href=\"https://colab.research.google.com/github/leoxiang66/machine-learning/blob/MLO/homework/homework1.ipynb\" target=\"_parent\"><img src=\"https://colab.research.google.com/assets/colab-badge.svg\" alt=\"Open In Colab\"/></a>"
      ]
    },
    {
      "cell_type": "code",
      "execution_count": 1,
      "metadata": {
        "id": "TWfbRfQLVSoL"
      },
      "outputs": [],
      "source": [
        "import torch\n",
        "import torch\n",
        "from torch.nn.parameter import Parameter\n",
        "from torch.distributions.normal import Normal\n",
        "from torch.distributions.uniform import Uniform"
      ]
    },
    {
      "cell_type": "code",
      "source": [
        "uniform_dist = Uniform(torch.tensor([0.0]), torch.tensor([1.0]))\n",
        "X = uniform_dist.sample(torch.Size([1000]))\n",
        "epsilon = Normal(0,0.5)"
      ],
      "metadata": {
        "id": "aPOajQbUVuUT"
      },
      "execution_count": 2,
      "outputs": []
    },
    {
      "cell_type": "code",
      "source": [
        "epsilon.sample()"
      ],
      "metadata": {
        "colab": {
          "base_uri": "https://localhost:8080/"
        },
        "id": "XuQh71mVW_O6",
        "outputId": "365756f1-a91f-4aa3-d48d-eb03a39d2a82"
      },
      "execution_count": 3,
      "outputs": [
        {
          "output_type": "execute_result",
          "data": {
            "text/plain": [
              "tensor(0.2409)"
            ]
          },
          "metadata": {},
          "execution_count": 3
        }
      ]
    },
    {
      "cell_type": "code",
      "source": [
        "X.size()"
      ],
      "metadata": {
        "colab": {
          "base_uri": "https://localhost:8080/"
        },
        "id": "n0XNJTL6WTXm",
        "outputId": "9c640f3f-2ca0-4b9b-a182-a6b61a9366a6"
      },
      "execution_count": 4,
      "outputs": [
        {
          "output_type": "execute_result",
          "data": {
            "text/plain": [
              "torch.Size([1000, 1])"
            ]
          },
          "metadata": {},
          "execution_count": 4
        }
      ]
    },
    {
      "cell_type": "code",
      "source": [
        "X[0]"
      ],
      "metadata": {
        "colab": {
          "base_uri": "https://localhost:8080/"
        },
        "id": "ve_DHTodWd6M",
        "outputId": "38d8880f-20cd-4977-8fb3-7130f0fe5659"
      },
      "execution_count": 5,
      "outputs": [
        {
          "output_type": "execute_result",
          "data": {
            "text/plain": [
              "tensor([0.9588])"
            ]
          },
          "metadata": {},
          "execution_count": 5
        }
      ]
    },
    {
      "cell_type": "code",
      "source": [
        "Y = torch.tensor([[x+epsilon.sample()] for x in X])\n",
        "Y.size()"
      ],
      "metadata": {
        "colab": {
          "base_uri": "https://localhost:8080/"
        },
        "id": "SKHEJ6HjW0wT",
        "outputId": "746d096b-e73e-40ce-86b5-d2acb06802e3"
      },
      "execution_count": 6,
      "outputs": [
        {
          "output_type": "execute_result",
          "data": {
            "text/plain": [
              "torch.Size([1000, 1])"
            ]
          },
          "metadata": {},
          "execution_count": 6
        }
      ]
    },
    {
      "cell_type": "code",
      "source": [
        "Y[0]"
      ],
      "metadata": {
        "colab": {
          "base_uri": "https://localhost:8080/"
        },
        "id": "J-THKDuCXHSA",
        "outputId": "da0d350b-b3a3-4f3b-fb6e-f308f3dd2700"
      },
      "execution_count": 7,
      "outputs": [
        {
          "output_type": "execute_result",
          "data": {
            "text/plain": [
              "tensor([0.8350])"
            ]
          },
          "metadata": {},
          "execution_count": 7
        }
      ]
    },
    {
      "cell_type": "markdown",
      "source": [
        "# P4.1"
      ],
      "metadata": {
        "id": "i6EonJFVZEiF"
      }
    },
    {
      "cell_type": "code",
      "source": [
        "from matplotlib import pyplot as plt\n",
        "plt.scatter(x=X,y=Y)\n",
        "plt.xlabel('X')\n",
        "plt.ylabel('Y')\n",
        "plt.show()"
      ],
      "metadata": {
        "colab": {
          "base_uri": "https://localhost:8080/",
          "height": 282
        },
        "id": "8BObrxPTX0hY",
        "outputId": "34753960-1d10-4f02-f22f-8065516a0861"
      },
      "execution_count": 8,
      "outputs": [
        {
          "output_type": "display_data",
          "data": {
            "text/plain": [
              "<Figure size 432x288 with 1 Axes>"
            ],
            "image/png": "[encoded data removed]"
          },
          "metadata": {
            "needs_background": "light"
          }
        }
      ]
    },
    {
      "cell_type": "markdown",
      "source": [
        "# P4.2"
      ],
      "metadata": {
        "id": "THT8tSS_ZJhU"
      }
    },
    {
      "cell_type": "markdown",
      "source": [
        "## Training\n",
        "\n",
        "This code section is just for a comparison with the grouth truth LS solution"
      ],
      "metadata": {
        "id": "mNRGg2CmdLVJ"
      }
    },
    {
      "cell_type": "code",
      "source": [
        "import torch\n",
        "class linearRegression(torch.nn.Module):\n",
        "    def __init__(self, inputSize, outputSize):\n",
        "        super(linearRegression, self).__init__()\n",
        "        self.linear = torch.nn.Linear(inputSize, outputSize,bias = False)\n",
        "\n",
        "    def forward(self, x):\n",
        "        out = self.linear(x)\n",
        "        return out"
      ],
      "metadata": {
        "id": "8gsHjrvZZKlP"
      },
      "execution_count": 9,
      "outputs": []
    },
    {
      "cell_type": "code",
      "source": [
        "inputDim = 1        # takes variable 'x' \n",
        "outputDim = 1       # takes variable 'y'\n",
        "learningRate = 0.01\n",
        "epochs = 100\n",
        "\n",
        "lr = linearRegression(inputDim, outputDim)"
      ],
      "metadata": {
        "id": "i3WGf_loaX3r"
      },
      "execution_count": 10,
      "outputs": []
    },
    {
      "cell_type": "code",
      "source": [
        "lr(X[:2])"
      ],
      "metadata": {
        "colab": {
          "base_uri": "https://localhost:8080/"
        },
        "id": "3QpwJfpFa3Oh",
        "outputId": "c39034a9-4929-4058-e2a2-359f40895e7c"
      },
      "execution_count": 11,
      "outputs": [
        {
          "output_type": "execute_result",
          "data": {
            "text/plain": [
              "tensor([[0.6314],\n",
              "        [0.5802]], grad_fn=<MmBackward0>)"
            ]
          },
          "metadata": {},
          "execution_count": 11
        }
      ]
    },
    {
      "cell_type": "code",
      "source": [
        "loss_fn = torch.nn.MSELoss() \n",
        "optimizer = torch.optim.Adam(lr.parameters(), lr=learningRate)"
      ],
      "metadata": {
        "id": "C3l4NBAba7Ar"
      },
      "execution_count": 12,
      "outputs": []
    },
    {
      "cell_type": "code",
      "source": [
        "for i in range(1,1001):\n",
        "    outputs = lr(X)\n",
        "    optimizer.zero_grad()\n",
        "\n",
        "    loss = loss_fn(outputs,Y)\n",
        "\n",
        "    if i%100 == 0:\n",
        "        print(f'Loss at {i} epoch: {loss.item()}')\n",
        "\n",
        "    loss.backward()\n",
        "    optimizer.step()"
      ],
      "metadata": {
        "colab": {
          "base_uri": "https://localhost:8080/"
        },
        "id": "PRo5DNpJbShs",
        "outputId": "74af2b89-6616-4922-90bd-c876048b9e4e"
      },
      "execution_count": 13,
      "outputs": [
        {
          "output_type": "stream",
          "name": "stdout",
          "text": [
            "Loss at 100 epoch: 0.227300226688385\n",
            "Loss at 200 epoch: 0.22729991376399994\n",
            "Loss at 300 epoch: 0.22729989886283875\n",
            "Loss at 400 epoch: 0.22729989886283875\n",
            "Loss at 500 epoch: 0.22729989886283875\n",
            "Loss at 600 epoch: 0.22729989886283875\n",
            "Loss at 700 epoch: 0.22729989886283875\n",
            "Loss at 800 epoch: 0.22729989886283875\n",
            "Loss at 900 epoch: 0.22729992866516113\n",
            "Loss at 1000 epoch: 0.22729992866516113\n"
          ]
        }
      ]
    },
    {
      "cell_type": "code",
      "source": [
        "Y_hat = lr(X)"
      ],
      "metadata": {
        "id": "Vrg9uYtTdazP"
      },
      "execution_count": 14,
      "outputs": []
    },
    {
      "cell_type": "code",
      "source": [
        "from matplotlib import pyplot as plt\n",
        "plt.scatter(x=X,y=Y, label = 'Raw Data')\n",
        "plt.scatter(x=X,y=Y_hat.detach().numpy(),label = 'Trained Result')\n",
        "plt.xlabel('X')\n",
        "plt.ylabel('Y')\n",
        "plt.legend()\n",
        "plt.show()"
      ],
      "metadata": {
        "colab": {
          "base_uri": "https://localhost:8080/",
          "height": 282
        },
        "id": "89WGlV8-dggY",
        "outputId": "786e8733-e621-4409-82d9-59d6e71b9c0c"
      },
      "execution_count": 15,
      "outputs": [
        {
          "output_type": "display_data",
          "data": {
            "text/plain": [
              "<Figure size 432x288 with 1 Axes>"
            ],
            "image/png": "[encoded data removed]"
          },
          "metadata": {
            "needs_background": "light"
          }
        }
      ]
    },
    {
      "cell_type": "markdown",
      "source": [
        "## LSE solution"
      ],
      "metadata": {
        "id": "xGXCDwhbeVRe"
      }
    },
    {
      "cell_type": "code",
      "source": [
        "lse_lr = linearRegression(1,1)\n"
      ],
      "metadata": {
        "id": "mMwBPzmreXA4"
      },
      "execution_count": 16,
      "outputs": []
    },
    {
      "cell_type": "code",
      "source": [
        "for i in lse_lr.linear.parameters():\n",
        "    print(i)"
      ],
      "metadata": {
        "colab": {
          "base_uri": "https://localhost:8080/"
        },
        "id": "ouuk4qNeeosZ",
        "outputId": "330429aa-1430-4473-d534-67eda0d7e373"
      },
      "execution_count": 17,
      "outputs": [
        {
          "output_type": "stream",
          "name": "stdout",
          "text": [
            "Parameter containing:\n",
            "tensor([[0.8064]], requires_grad=True)\n"
          ]
        }
      ]
    },
    {
      "cell_type": "code",
      "source": [
        "(X.T).size()"
      ],
      "metadata": {
        "colab": {
          "base_uri": "https://localhost:8080/"
        },
        "id": "8FzEcvnLgIe0",
        "outputId": "ce7a6d4e-17e9-4b6d-b659-4a2e54bc1ea5"
      },
      "execution_count": 18,
      "outputs": [
        {
          "output_type": "execute_result",
          "data": {
            "text/plain": [
              "torch.Size([1, 1000])"
            ]
          },
          "metadata": {},
          "execution_count": 18
        }
      ]
    },
    {
      "cell_type": "code",
      "source": [
        "def compute_lse(X,y):\n",
        "    tmp = torch.matmul(X.T, X)\n",
        "    tmp = torch.inverse(tmp)\n",
        "    tmp = torch.matmul(tmp,X.T)\n",
        "    tmp = torch.matmul(tmp,y)\n",
        "\n",
        "    return tmp"
      ],
      "metadata": {
        "id": "JZSc30UhgeKT"
      },
      "execution_count": 19,
      "outputs": []
    },
    {
      "cell_type": "code",
      "source": [
        "lse = compute_lse(X,Y)\n",
        "lse"
      ],
      "metadata": {
        "colab": {
          "base_uri": "https://localhost:8080/"
        },
        "id": "vSmD7kqhg7e8",
        "outputId": "dbd2ae77-61c9-4762-f1b9-2c6c96d3e26f"
      },
      "execution_count": 20,
      "outputs": [
        {
          "output_type": "execute_result",
          "data": {
            "text/plain": [
              "tensor([[1.0377]])"
            ]
          },
          "metadata": {},
          "execution_count": 20
        }
      ]
    },
    {
      "cell_type": "code",
      "source": [
        "lse_lr.linear.weight = torch.nn.Parameter(lse) "
      ],
      "metadata": {
        "id": "Oq6c4hChhBZS"
      },
      "execution_count": 21,
      "outputs": []
    },
    {
      "cell_type": "code",
      "source": [
        "Y_lse = lse_lr(X)"
      ],
      "metadata": {
        "id": "-khubRyUhJyh"
      },
      "execution_count": 22,
      "outputs": []
    },
    {
      "cell_type": "code",
      "source": [
        "from matplotlib import pyplot as plt\n",
        "plt.scatter(x=X,y=Y, label = 'Raw Data')\n",
        "plt.scatter(x=X,y=Y_lse.detach().numpy(),label = 'LSE Result')\n",
        "plt.xlabel('X')\n",
        "plt.ylabel('Y')\n",
        "plt.legend()\n",
        "plt.show()"
      ],
      "metadata": {
        "colab": {
          "base_uri": "https://localhost:8080/",
          "height": 0
        },
        "id": "zQjbMrv_hOlG",
        "outputId": "b62e37f3-81db-4738-f68e-4d5ec792d56f"
      },
      "execution_count": 23,
      "outputs": [
        {
          "output_type": "display_data",
          "data": {
            "text/plain": [
              "<Figure size 432x288 with 1 Axes>"
            ],
            "image/png": "[encoded data removed]"
          },
          "metadata": {
            "needs_background": "light"
          }
        }
      ]
    },
    {
      "cell_type": "markdown",
      "source": [
        "## Training Error"
      ],
      "metadata": {
        "id": "FFW_U1YUhvke"
      }
    },
    {
      "cell_type": "code",
      "source": [
        "loss_fn(Y_hat, Y_lse).item()"
      ],
      "metadata": {
        "colab": {
          "base_uri": "https://localhost:8080/"
        },
        "id": "VWbILR_QhtzL",
        "outputId": "f26abbb7-efdc-480a-b1b4-cf796a9daded"
      },
      "execution_count": 24,
      "outputs": [
        {
          "output_type": "execute_result",
          "data": {
            "text/plain": [
              "4.2726767761867845e-14"
            ]
          },
          "metadata": {},
          "execution_count": 24
        }
      ]
    },
    {
      "cell_type": "markdown",
      "source": [
        "# P 4.4"
      ],
      "metadata": {
        "id": "hohA7M1_kbCk"
      }
    },
    {
      "cell_type": "code",
      "source": [
        "xi = Normal(0,0.1)"
      ],
      "metadata": {
        "id": "ANBGZCn5kaWc"
      },
      "execution_count": 25,
      "outputs": []
    },
    {
      "cell_type": "code",
      "source": [
        "Y = torch.tensor([[30*torch.square(x-0.25)*torch.square(x-0.75) + xi.sample()] for x in X])\n",
        "Y.size()"
      ],
      "metadata": {
        "colab": {
          "base_uri": "https://localhost:8080/"
        },
        "id": "ItA2tsJ0k0mI",
        "outputId": "f1bae2ee-37d3-4e84-cc8e-f036aa9584d0"
      },
      "execution_count": 26,
      "outputs": [
        {
          "output_type": "execute_result",
          "data": {
            "text/plain": [
              "torch.Size([1000, 1])"
            ]
          },
          "metadata": {},
          "execution_count": 26
        }
      ]
    },
    {
      "cell_type": "code",
      "source": [
        "from matplotlib import pyplot as plt\n",
        "plt.scatter(x=X,y=Y)\n",
        "plt.xlabel('X')\n",
        "plt.ylabel('Y')\n",
        "plt.show()"
      ],
      "metadata": {
        "colab": {
          "base_uri": "https://localhost:8080/",
          "height": 279
        },
        "id": "FHr9Y8sOlP_G",
        "outputId": "6cc9825b-ea72-4fdf-d565-29024451ec3d"
      },
      "execution_count": 27,
      "outputs": [
        {
          "output_type": "display_data",
          "data": {
            "text/plain": [
              "<Figure size 432x288 with 1 Axes>"
            ],
            "image/png": "[encoded data removed]"
          },
          "metadata": {
            "needs_background": "light"
          }
        }
      ]
    },
    {
      "cell_type": "markdown",
      "source": [
        "**First we build the new $X$ matrix which is the polynomial form of $X$**"
      ],
      "metadata": {
        "id": "EusKYE04orFo"
      }
    },
    {
      "cell_type": "code",
      "source": [
        "def pd(x, dim: int):\n",
        "    result = [1]\n",
        "    for i in range(dim):\n",
        "        result.append(torch.pow(x,(i+1)))\n",
        "    return torch.Tensor(result)\n"
      ],
      "metadata": {
        "id": "ht8lLcwKmSdX"
      },
      "execution_count": 28,
      "outputs": []
    },
    {
      "cell_type": "code",
      "source": [
        "pd(X[0][0],4)"
      ],
      "metadata": {
        "colab": {
          "base_uri": "https://localhost:8080/"
        },
        "id": "FpFdpfQJnI6J",
        "outputId": "9d0962f3-9d1f-474a-88fe-9f5effd00d3d"
      },
      "execution_count": 29,
      "outputs": [
        {
          "output_type": "execute_result",
          "data": {
            "text/plain": [
              "tensor([1.0000, 0.9588, 0.9193, 0.8814, 0.8451])"
            ]
          },
          "metadata": {},
          "execution_count": 29
        }
      ]
    },
    {
      "cell_type": "code",
      "source": [
        "tmp = [pd(x[0],4) for x in X]"
      ],
      "metadata": {
        "id": "hhcfmdUvnUyq"
      },
      "execution_count": 30,
      "outputs": []
    },
    {
      "cell_type": "code",
      "source": [
        "X_new = torch.stack(tmp, dim = 0)\n",
        "X_new.size()"
      ],
      "metadata": {
        "colab": {
          "base_uri": "https://localhost:8080/"
        },
        "id": "7ro8DaG0lUQv",
        "outputId": "74a405bc-8191-4ec1-ea99-f2f6d12e078f"
      },
      "execution_count": 31,
      "outputs": [
        {
          "output_type": "execute_result",
          "data": {
            "text/plain": [
              "torch.Size([1000, 5])"
            ]
          },
          "metadata": {},
          "execution_count": 31
        }
      ]
    },
    {
      "cell_type": "markdown",
      "source": [
        "**After we have the new $X$, we can compute the LSE solution.**"
      ],
      "metadata": {
        "id": "C6h4ZDkYo1IU"
      }
    },
    {
      "cell_type": "code",
      "source": [
        "lse = compute_lse(X_new,Y)\n",
        "lse"
      ],
      "metadata": {
        "colab": {
          "base_uri": "https://localhost:8080/"
        },
        "id": "IDHRacRHnhm9",
        "outputId": "67ef144c-9361-44bd-dbfe-1fc651601b90"
      },
      "execution_count": 32,
      "outputs": [
        {
          "output_type": "execute_result",
          "data": {
            "text/plain": [
              "tensor([[  1.0479],\n",
              "        [-11.2655],\n",
              "        [ 41.6800],\n",
              "        [-60.9429],\n",
              "        [ 30.5437]])"
            ]
          },
          "metadata": {},
          "execution_count": 32
        }
      ]
    },
    {
      "cell_type": "markdown",
      "source": [
        "**To plot the LSE result, we generate $Y$ using the LSE solution**"
      ],
      "metadata": {
        "id": "nfbGNHRRo-XG"
      }
    },
    {
      "cell_type": "code",
      "source": [
        "def forward(X, param):\n",
        "    tmp = [pd(x[0],4) for x in X]\n",
        "    X_new = torch.stack(tmp, dim = 0)\n",
        "    return torch.matmul(X_new,param)"
      ],
      "metadata": {
        "id": "C_OljH7Tn3tn"
      },
      "execution_count": 33,
      "outputs": []
    },
    {
      "cell_type": "code",
      "source": [
        "Y_lse = forward(X,lse)\n",
        "Y_lse.size()"
      ],
      "metadata": {
        "colab": {
          "base_uri": "https://localhost:8080/"
        },
        "id": "6nlEtClUoO_7",
        "outputId": "84acff6c-68dc-4524-e5bd-63a179a40f43"
      },
      "execution_count": 34,
      "outputs": [
        {
          "output_type": "execute_result",
          "data": {
            "text/plain": [
              "torch.Size([1000, 1])"
            ]
          },
          "metadata": {},
          "execution_count": 34
        }
      ]
    },
    {
      "cell_type": "code",
      "source": [
        "from matplotlib import pyplot as plt\n",
        "plt.scatter(x=X,y=Y, label = 'Raw Data')\n",
        "plt.scatter(x=X,y=Y_lse.detach().numpy(),label = 'LSE Result')\n",
        "plt.xlabel('X')\n",
        "plt.ylabel('Y')\n",
        "plt.legend()\n",
        "plt.show()"
      ],
      "metadata": {
        "colab": {
          "base_uri": "https://localhost:8080/",
          "height": 279
        },
        "id": "mG7UASuxoYpR",
        "outputId": "9407f634-3805-4e3b-e7e9-5cfc13e51256"
      },
      "execution_count": 35,
      "outputs": [
        {
          "output_type": "display_data",
          "data": {
            "text/plain": [
              "<Figure size 432x288 with 1 Axes>"
            ],
            "image/png": "[encoded data removed]"
          },
          "metadata": {
            "needs_background": "light"
          }
        }
      ]
    }
  ]
}