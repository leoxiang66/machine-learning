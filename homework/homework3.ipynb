{
  "nbformat": 4,
  "nbformat_minor": 0,
  "metadata": {
    "colab": {
      "provenance": [],
      "collapsed_sections": [],
      "authorship_tag": "ABX9TyPalbevlfq6+UhCf34MgNf1",
      "include_colab_link": true
    },
    "kernelspec": {
      "name": "python3",
      "display_name": "Python 3"
    },
    "language_info": {
      "name": "python"
    }
  },
  "cells": [
    {
      "cell_type": "markdown",
      "metadata": {
        "id": "view-in-github",
        "colab_type": "text"
      },
      "source": [
        "<a href=\"https://colab.research.google.com/github/leoxiang66/machine-learning/blob/MLO/homework/homework3.ipynb\" target=\"_parent\"><img src=\"https://colab.research.google.com/assets/colab-badge.svg\" alt=\"Open In Colab\"/></a>"
      ]
    },
    {
      "cell_type": "code",
      "source": [
        "!git lfs install\n",
        "!git clone https://huggingface.co/datasets/Adapting/MLO"
      ],
      "metadata": {
        "colab": {
          "base_uri": "https://localhost:8080/"
        },
        "id": "KpPNOJmWOeR_",
        "outputId": "b65c31c4-15ed-4a08-903a-ba832924809f"
      },
      "execution_count": 1,
      "outputs": [
        {
          "output_type": "stream",
          "name": "stdout",
          "text": [
            "Error: Failed to call git rev-parse --git-dir --show-toplevel: \"fatal: not a git repository (or any of the parent directories): .git\\n\"\n",
            "Git LFS initialized.\n",
            "Cloning into 'MLO'...\n",
            "remote: Enumerating objects: 8, done.\u001b[K\n",
            "remote: Counting objects: 100% (8/8), done.\u001b[K\n",
            "remote: Compressing objects: 100% (7/7), done.\u001b[K\n",
            "remote: Total 8 (delta 1), reused 0 (delta 0), pack-reused 0\u001b[K\n",
            "Unpacking objects: 100% (8/8), done.\n"
          ]
        }
      ]
    },
    {
      "cell_type": "code",
      "source": [
        "%cd /content/MLO\n",
        "!ls"
      ],
      "metadata": {
        "colab": {
          "base_uri": "https://localhost:8080/"
        },
        "id": "0eWCWpLgQuZM",
        "outputId": "44159da9-65d0-47f2-dfdb-6f8b308d7097"
      },
      "execution_count": 2,
      "outputs": [
        {
          "output_type": "stream",
          "name": "stdout",
          "text": [
            "/content/MLO\n",
            "hitters.x.csv  hitters.y.csv  README.md\n"
          ]
        }
      ]
    },
    {
      "cell_type": "code",
      "source": [
        "import csv\n",
        "import numpy as np\n",
        "import torch\n",
        "from torch import linalg as LA\n",
        "import matplotlib.pyplot as plt\n",
        "from sklearn.model_selection import train_test_split"
      ],
      "metadata": {
        "id": "7CT6J6q-QQXL"
      },
      "execution_count": 3,
      "outputs": []
    },
    {
      "cell_type": "code",
      "source": [
        "X = np.loadtxt('hitters.x.csv', delimiter=',', skiprows=1)\n",
        "with open('hitters.x.csv', 'r') as f:\n",
        "  X_colnames = next(csv.reader(f))\n",
        "\n",
        "y = np.loadtxt('hitters.y.csv', delimiter=',', skiprows=1)\n"
      ],
      "metadata": {
        "id": "ov6PemPfQE5e"
      },
      "execution_count": 4,
      "outputs": []
    },
    {
      "cell_type": "code",
      "source": [
        "X_colnames"
      ],
      "metadata": {
        "colab": {
          "base_uri": "https://localhost:8080/"
        },
        "id": "jwDbPMsnRNcy",
        "outputId": "f4a0e3fc-d087-4f26-ebbf-45c2789d5542"
      },
      "execution_count": 5,
      "outputs": [
        {
          "output_type": "execute_result",
          "data": {
            "text/plain": [
              "['AtBat',\n",
              " 'Hits',\n",
              " 'HmRun',\n",
              " 'Runs',\n",
              " 'RBI',\n",
              " 'Walks',\n",
              " 'Years',\n",
              " 'CAtBat',\n",
              " 'CHits',\n",
              " 'CHmRun',\n",
              " 'CRuns',\n",
              " 'CRBI',\n",
              " 'CWalks',\n",
              " 'LeagueN',\n",
              " 'DivisionW',\n",
              " 'PutOuts',\n",
              " 'Assists',\n",
              " 'Errors',\n",
              " 'NewLeagueN']"
            ]
          },
          "metadata": {},
          "execution_count": 5
        }
      ]
    },
    {
      "cell_type": "markdown",
      "source": [
        "**1. Standarization**"
      ],
      "metadata": {
        "id": "mU35NR6CQ7mw"
      }
    },
    {
      "cell_type": "code",
      "source": [
        "standart_deviations = np.std(X, axis=0)\n",
        "X_shape = np.shape(X)\n",
        "X = X / standart_deviations\n",
        "\n",
        "print(X[:3])"
      ],
      "metadata": {
        "colab": {
          "base_uri": "https://localhost:8080/"
        },
        "id": "sBjRpiACQ2b0",
        "outputId": "442bb364-a52e-4569-d41f-b14b6d536857"
      },
      "execution_count": 6,
      "outputs": [
        {
          "output_type": "stream",
          "name": "stdout",
          "text": [
            "[[2.14246523 1.7984232  0.8008747  0.94150084 1.47096049 1.79916455\n",
            "  2.92611931 1.51124009 1.29063939 0.84104122 0.97105495 1.28271737\n",
            "  1.42286165 2.00326086 2.00036153 2.26197481 0.29695211 1.51652966\n",
            "  2.00523962]\n",
            " [3.25790744 2.88635822 2.05939209 2.58912732 2.78708303 3.50606425\n",
            "  0.62702557 0.7115842  0.70637389 0.7679072  0.6776209  0.8241614\n",
            "  0.9979003  0.         2.00036153 3.14958518 0.56628076 2.12314153\n",
            "  0.        ]\n",
            " [3.37353255 3.13058853 2.28821344 2.54989811 3.01933995 1.7068997\n",
            "  2.29909374 2.46600731 2.43443957 2.74252571 2.50477726 2.59641825\n",
            "  1.3431814  2.00326086 0.         0.71581481 0.07596449 0.4549589\n",
            "  2.00523962]]\n"
          ]
        }
      ]
    },
    {
      "cell_type": "markdown",
      "source": [
        "**2. Prepare lambdas**"
      ],
      "metadata": {
        "id": "wv3MVTa0R9GK"
      }
    },
    {
      "cell_type": "code",
      "source": [
        "delta = (7--3)/100\n",
        "delta"
      ],
      "metadata": {
        "colab": {
          "base_uri": "https://localhost:8080/"
        },
        "id": "SoIggE4qRaKG",
        "outputId": "57be8709-337f-4b2e-c7b1-9eed07d37f5d"
      },
      "execution_count": 7,
      "outputs": [
        {
          "output_type": "execute_result",
          "data": {
            "text/plain": [
              "0.1"
            ]
          },
          "metadata": {},
          "execution_count": 7
        }
      ]
    },
    {
      "cell_type": "code",
      "source": [
        "lambdas  = list(10 ** np.linspace(-3, 7, 100))\n",
        "lambdas[:10], lambdas[-1]"
      ],
      "metadata": {
        "colab": {
          "base_uri": "https://localhost:8080/"
        },
        "id": "xkNOZdjlTfgY",
        "outputId": "8f215b16-4818-4734-891d-49f580a0f0ab"
      },
      "execution_count": 8,
      "outputs": [
        {
          "output_type": "execute_result",
          "data": {
            "text/plain": [
              "([0.001,\n",
              "  0.0012618568830660211,\n",
              "  0.0015922827933410922,\n",
              "  0.002009233002565048,\n",
              "  0.0025353644939701114,\n",
              "  0.0031992671377973846,\n",
              "  0.004037017258596553,\n",
              "  0.0050941380148163806,\n",
              "  0.006428073117284319,\n",
              "  0.008111308307896872],\n",
              " 10000000.0)"
            ]
          },
          "metadata": {},
          "execution_count": 8
        }
      ]
    },
    {
      "cell_type": "markdown",
      "source": [
        "**3. Biased Ridge Regression**\n",
        "\n",
        "Given $X, y$, we build biased features as $\\tilde{X} = [1 \\quad X]$, thus we have new weights $\\tilde{\\theta} = [m \\quad \\theta]^{T}$, where $m$ is the bias weight. The loss is defined as\n",
        "\n",
        "$$\n",
        "\\text{loss} = \\|\\tilde{y}-y\\|_2^2+\\lambda\\|\\theta\\|_2^2\n",
        "$$, where $\\tilde{y} = \\tilde{X} \\cdot \\tilde{\\theta}$"
      ],
      "metadata": {
        "id": "ZU5D30yKV9eG"
      }
    },
    {
      "cell_type": "markdown",
      "source": [],
      "metadata": {
        "id": "co5aszkmXxYq"
      }
    },
    {
      "cell_type": "code",
      "source": [
        "def biased_ridge_regression_estimate(X,y,lam, return_penalty = False, return_theta = False):\n",
        "    '''\n",
        "    compute the \\tilde{\\theta} solution\n",
        "    '''\n",
        "    n = X.shape[0]\n",
        "    d = X.shape[1]\n",
        "\n",
        "    X = torch.Tensor(X)\n",
        "    y = torch.Tensor(y)\n",
        "\n",
        "    tmp = torch.matmul(X.T,X)\n",
        "    tmp += lam * torch.eye(d)\n",
        "    tmp -= (torch.matmul(torch.matmul(X.T, torch.ones(n,n)),X))/n\n",
        "    tmp = torch.inverse(tmp)\n",
        "    tmp = torch.matmul(tmp, X.T)\n",
        "\n",
        "    tmp2 = torch.eye(n) - (torch.ones(n,n))/n\n",
        "    tmp2 = torch.matmul(tmp2,y)\n",
        "    theta = torch.matmul(tmp, tmp2)\n",
        "\n",
        "    m =  (torch.matmul(torch.ones(1,n),y-torch.matmul(X,theta)))/n\n",
        "\n",
        "    theta_tilde = torch.concat([m, theta],dim =0)\n",
        "\n",
        "    assert len(theta_tilde) == d+1\n",
        "\n",
        "    if return_penalty:\n",
        "        penalty = LA.vector_norm(theta)**2\n",
        "        return theta_tilde, torch.log10(penalty)\n",
        "    \n",
        "    if return_theta:\n",
        "        return theta\n",
        "\n",
        "    return theta_tilde"
      ],
      "metadata": {
        "id": "QVCGYA3OXasr"
      },
      "execution_count": 9,
      "outputs": []
    },
    {
      "cell_type": "code",
      "source": [
        "biased_ridge_regression_estimate(X,y,lambdas[0])"
      ],
      "metadata": {
        "colab": {
          "base_uri": "https://localhost:8080/"
        },
        "id": "btoH684Sboik",
        "outputId": "72773458-ccb0-4c40-e964-8a336beddc3e"
      },
      "execution_count": 10,
      "outputs": [
        {
          "output_type": "execute_result",
          "data": {
            "text/plain": [
              "tensor([ 163.1060, -291.0964,  337.7980,   37.8246,  -60.5212,  -26.9720,\n",
              "         135.0598,  -16.7264, -390.8046,   86.8548,  -14.0557,  480.4399,\n",
              "         260.4678, -213.8412,   31.2463,  -58.4169,   78.7617,   53.7249,\n",
              "         -22.1618,  -12.3491])"
            ]
          },
          "metadata": {},
          "execution_count": 10
        }
      ]
    },
    {
      "cell_type": "markdown",
      "source": [
        "**P4.3**"
      ],
      "metadata": {
        "id": "ECxlSRCrdRAF"
      }
    },
    {
      "cell_type": "code",
      "source": [
        "xpoints = lambdas.copy()\n",
        "list.reverse(xpoints)\n",
        "ypoints = [biased_ridge_regression_estimate(X,y,lam,return_penalty=True)[1] for lam in xpoints]\n",
        "\n",
        "\n",
        "\n",
        "plt.plot(np.log10(xpoints), ypoints)\n",
        "plt.xlabel('Lambda')\n",
        "plt.ylabel('Penality')\n",
        "plt.show()"
      ],
      "metadata": {
        "colab": {
          "base_uri": "https://localhost:8080/",
          "height": 279
        },
        "id": "ZzVrsYtgdS_z",
        "outputId": "5a18bd62-cd91-49b3-85c0-d8ac17ea2fc0"
      },
      "execution_count": 11,
      "outputs": [
        {
          "output_type": "display_data",
          "data": {
            "text/plain": [
              "<Figure size 432x288 with 1 Axes>"
            ],
            "image/png": "[encoded data removed]"
          },
          "metadata": {
            "needs_background": "light"
          }
        }
      ]
    },
    {
      "cell_type": "markdown",
      "source": [
        "We can see as the lambda increase, the penalty decrease and vice versa."
      ],
      "metadata": {
        "id": "xDYGjzXTEksY"
      }
    },
    {
      "cell_type": "markdown",
      "source": [
        "**P4.4**"
      ],
      "metadata": {
        "id": "-b6MFoZ2iDo3"
      }
    },
    {
      "cell_type": "code",
      "source": [
        "rre = torch.Tensor(biased_ridge_regression_estimate(X,y,0.0000000000001, return_theta = True))"
      ],
      "metadata": {
        "id": "f08HmFdniPx8"
      },
      "execution_count": 12,
      "outputs": []
    },
    {
      "cell_type": "code",
      "source": [
        "def least_square_estimate(X, y):\n",
        "    tmp = torch.matmul(X.T, X)\n",
        "    tmp = torch.inverse(tmp)\n",
        "    tmp = torch.matmul(tmp,X.T)\n",
        "    tmp = torch.matmul(tmp,y)\n",
        "\n",
        "    return tmp"
      ],
      "metadata": {
        "id": "-IXgbvZlibYF"
      },
      "execution_count": 13,
      "outputs": []
    },
    {
      "cell_type": "code",
      "source": [
        "lse = least_square_estimate(torch.Tensor(X),torch.Tensor(y))"
      ],
      "metadata": {
        "id": "x4CYMsAOiiUo"
      },
      "execution_count": 14,
      "outputs": []
    },
    {
      "cell_type": "code",
      "source": [
        "loss = torch.nn.MSELoss()\n",
        "\n",
        "loss(rre,lse)"
      ],
      "metadata": {
        "colab": {
          "base_uri": "https://localhost:8080/"
        },
        "id": "4qdyFGa8iqsk",
        "outputId": "776ccbfd-b3d1-4a8b-a0bf-1ea171e2893b"
      },
      "execution_count": 15,
      "outputs": [
        {
          "output_type": "execute_result",
          "data": {
            "text/plain": [
              "tensor(693.9199)"
            ]
          },
          "metadata": {},
          "execution_count": 15
        }
      ]
    },
    {
      "cell_type": "markdown",
      "source": [
        "**P4.5**"
      ],
      "metadata": {
        "id": "8K3vMFX9i-N7"
      }
    },
    {
      "cell_type": "code",
      "source": [
        "X.shape"
      ],
      "metadata": {
        "colab": {
          "base_uri": "https://localhost:8080/"
        },
        "id": "WK8FX154kXuW",
        "outputId": "ccb4d257-c3cc-47e5-d5fa-479a08427e02"
      },
      "execution_count": 16,
      "outputs": [
        {
          "output_type": "execute_result",
          "data": {
            "text/plain": [
              "(263, 19)"
            ]
          },
          "metadata": {},
          "execution_count": 16
        }
      ]
    },
    {
      "cell_type": "code",
      "source": [
        "tmp_x = X\n",
        "tmp_y = y\n",
        "\n",
        "batches = []\n",
        "\n",
        "for i in [0.2,0.25,1/3,0.5]:\n",
        "    \n",
        "    tmp_x, X_test, tmp_y, y_test = train_test_split(\n",
        "    tmp_x, tmp_y, test_size=i, random_state=0)\n",
        "\n",
        "    batches.append((X_test,y_test))\n",
        "\n",
        "batches.append((tmp_x,tmp_y))\n"
      ],
      "metadata": {
        "id": "yQIM97Y1mI9x"
      },
      "execution_count": 17,
      "outputs": []
    },
    {
      "cell_type": "code",
      "source": [
        "x1,y1 = batches[0]\n",
        "x2,y2 = batches[1]"
      ],
      "metadata": {
        "id": "Mh7k_PbEp5jb"
      },
      "execution_count": 18,
      "outputs": []
    },
    {
      "cell_type": "code",
      "source": [
        "tmp = np.concatenate([x1,x2], axis=0)\n",
        "tmp.shape"
      ],
      "metadata": {
        "colab": {
          "base_uri": "https://localhost:8080/"
        },
        "id": "n4ikAMsiqAU3",
        "outputId": "8ad350ba-648a-4cfd-a289-3e05919a8871"
      },
      "execution_count": 19,
      "outputs": [
        {
          "output_type": "execute_result",
          "data": {
            "text/plain": [
              "(106, 19)"
            ]
          },
          "metadata": {},
          "execution_count": 19
        }
      ]
    },
    {
      "cell_type": "code",
      "source": [
        "from sklearn.model_selection import train_test_split\n",
        "def k_fold_cross_validation(k,X,y, loss_func, lam = None):\n",
        "\n",
        "    # k等分dataset\n",
        "    tmp_x = X\n",
        "    tmp_y = y\n",
        "    batches = []\n",
        "\n",
        "    for i in [1/z for z in range(k,1,-1)]:\n",
        "        tmp_x, X_test, tmp_y, y_test = train_test_split(\n",
        "        tmp_x, tmp_y, test_size=i, random_state=0)\n",
        "\n",
        "        batches.append((X_test,y_test))\n",
        "    batches.append((tmp_x,tmp_y))\n",
        "\n",
        "    # 计算k次\n",
        "    val_losses = []\n",
        "    for j in range(k):\n",
        "        val_x, val_y = batches[j]\n",
        "        train_indices = [i for i in range(k) if i != j]\n",
        "\n",
        "\n",
        "        train_x = torch.concat([batches[x][0] for x in train_indices])\n",
        "        train_y = torch.concat([batches[x][1] for x in train_indices])\n",
        "\n",
        "\n",
        "\n",
        "        ## training\n",
        "        rre = biased_ridge_regression_estimate(train_x,train_y,lam, return_theta = True)\n",
        "\n",
        "        ## validation loss\n",
        "        tmp = torch.matmul(val_x,torch.Tensor(rre))\n",
        "        val_losses.append(loss_func(tmp,val_y))\n",
        "\n",
        "    return torch.mean(torch.Tensor(val_losses))\n",
        "\n",
        "\n"
      ],
      "metadata": {
        "id": "lXQhZK4xoLhp"
      },
      "execution_count": 20,
      "outputs": []
    },
    {
      "cell_type": "code",
      "source": [
        "import matplotlib.pyplot as plt\n",
        "import numpy as np\n",
        "\n",
        "xpoints = lambdas\n",
        "ypoints = np.log10([k_fold_cross_validation(5,torch.Tensor(X),torch.Tensor(y),torch.nn.MSELoss(),x).numpy() for x in lambdas])\n",
        "\n",
        "plt.plot(np.log10(xpoints), ypoints)\n",
        "plt.show()"
      ],
      "metadata": {
        "colab": {
          "base_uri": "https://localhost:8080/",
          "height": 265
        },
        "id": "Ju89knIfuFNM",
        "outputId": "19b0a3af-1c25-480f-8d68-745799b7f07b"
      },
      "execution_count": 21,
      "outputs": [
        {
          "output_type": "display_data",
          "data": {
            "text/plain": [
              "<Figure size 432x288 with 1 Axes>"
            ],
            "image/png": "[encoded data removed]"
          },
          "metadata": {
            "needs_background": "light"
          }
        }
      ]
    },
    {
      "cell_type": "markdown",
      "source": [
        "**P4.6**"
      ],
      "metadata": {
        "id": "wr9NgUhnEMbm"
      }
    },
    {
      "cell_type": "code",
      "source": [
        "best_lam = lambdas[np.argmin(ypoints)]\n",
        "best_lam"
      ],
      "metadata": {
        "colab": {
          "base_uri": "https://localhost:8080/"
        },
        "id": "-GSl0HKKEKqT",
        "outputId": "59cddefa-7be5-4625-a99c-cf5e6d483750"
      },
      "execution_count": 22,
      "outputs": [
        {
          "output_type": "execute_result",
          "data": {
            "text/plain": [
              "70.54802310718645"
            ]
          },
          "metadata": {},
          "execution_count": 22
        }
      ]
    },
    {
      "cell_type": "markdown",
      "source": [
        "The best $\\lambda$ is 70.54802310718645"
      ],
      "metadata": {
        "id": "U2G_4X9IEb9f"
      }
    },
    {
      "cell_type": "code",
      "source": [
        "theta = biased_ridge_regression_estimate(X,y,best_lam, return_theta= True)\n",
        "\n",
        "print(f\"Theta: {theta}\")"
      ],
      "metadata": {
        "colab": {
          "base_uri": "https://localhost:8080/"
        },
        "id": "SVLqvHkvFO-g",
        "outputId": "2672a010-2d08-4b5e-88f3-54af12435b1c"
      },
      "execution_count": 23,
      "outputs": [
        {
          "output_type": "stream",
          "name": "stdout",
          "text": [
            "Theta: tensor([-10.0683,  57.3920,  -4.3689,  29.5286,  22.1207,  45.0601,  -9.4623,\n",
            "         23.3200,  49.9671,  42.2850,  50.6466,  52.8905,  -5.2700,  17.1136,\n",
            "        -52.5109,  61.3470,   9.6729, -16.0224,   1.1069])\n"
          ]
        }
      ]
    },
    {
      "cell_type": "markdown",
      "source": [
        "Important attributes are those with large coefficients. Therefore, the following properties are relatively important：\n",
        "- Hits\n",
        "- CRuns\n",
        "- CRBI\n",
        "- CAtBat\n",
        "- Walks\n"
      ],
      "metadata": {
        "id": "lhOPdSJvFkPv"
      }
    }
  ]
}